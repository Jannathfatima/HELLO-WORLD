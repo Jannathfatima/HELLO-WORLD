{
  "nbformat": 4,
  "nbformat_minor": 0,
  "metadata": {
    "colab": {
      "name": "dphi work",
      "provenance": [],
      "collapsed_sections": [],
      "authorship_tag": "ABX9TyM9w8obylWzIDJLHAVOJJIq",
      "include_colab_link": true
    },
    "kernelspec": {
      "name": "python3",
      "display_name": "Python 3"
    }
  },
  "cells": [
    {
      "cell_type": "markdown",
      "metadata": {
        "id": "view-in-github",
        "colab_type": "text"
      },
      "source": [
        "<a href=\"https://colab.research.google.com/github/Jannathfatima/HELLO-WORLD/blob/master/dphi_work.ipynb\" target=\"_parent\"><img src=\"https://colab.research.google.com/assets/colab-badge.svg\" alt=\"Open In Colab\"/></a>"
      ]
    },
    {
      "cell_type": "code",
      "metadata": {
        "id": "dmfJ0cjhdHqa"
      },
      "source": [
        "url = 'https://drive.google.com/file/d/1QcKzIJlO6WRUH4IkrKAvDmBVEipXkeQb/view?usp=sharing'\r\n",
        "\r\n",
        "path = 'https://drive.google.com/uc?export=download&id='+url.split('/')[-2]\r\n",
        "\r\n",
        "data = pd.read_csv(path)"
      ],
      "execution_count": 3,
      "outputs": []
    },
    {
      "cell_type": "code",
      "metadata": {
        "id": "7safAqiodX1X"
      },
      "source": [
        "import pandas as pd\r\n"
      ],
      "execution_count": 2,
      "outputs": []
    },
    {
      "cell_type": "code",
      "metadata": {
        "colab": {
          "base_uri": "https://localhost:8080/",
          "height": 204
        },
        "id": "qGPUIxQQde33",
        "outputId": "8b8cb097-3eb1-4fd8-94d6-a05b9fdef02c"
      },
      "source": [
        "data.head()"
      ],
      "execution_count": 4,
      "outputs": [
        {
          "output_type": "execute_result",
          "data": {
            "text/html": [
              "<div>\n",
              "<style scoped>\n",
              "    .dataframe tbody tr th:only-of-type {\n",
              "        vertical-align: middle;\n",
              "    }\n",
              "\n",
              "    .dataframe tbody tr th {\n",
              "        vertical-align: top;\n",
              "    }\n",
              "\n",
              "    .dataframe thead th {\n",
              "        text-align: right;\n",
              "    }\n",
              "</style>\n",
              "<table border=\"1\" class=\"dataframe\">\n",
              "  <thead>\n",
              "    <tr style=\"text-align: right;\">\n",
              "      <th></th>\n",
              "      <th>VendorID</th>\n",
              "      <th>tpep_pickup_datetime</th>\n",
              "      <th>tpep_dropoff_datetime</th>\n",
              "      <th>passenger_count</th>\n",
              "      <th>PULocationID</th>\n",
              "      <th>DOLocationID</th>\n",
              "      <th>fare_amount</th>\n",
              "    </tr>\n",
              "  </thead>\n",
              "  <tbody>\n",
              "    <tr>\n",
              "      <th>0</th>\n",
              "      <td>1.0</td>\n",
              "      <td>2020-01-01 00:28:15</td>\n",
              "      <td>2020-01-01 00:33:03</td>\n",
              "      <td>1.0</td>\n",
              "      <td>238</td>\n",
              "      <td>239</td>\n",
              "      <td>6.0</td>\n",
              "    </tr>\n",
              "    <tr>\n",
              "      <th>1</th>\n",
              "      <td>1.0</td>\n",
              "      <td>2020-01-01 00:35:39</td>\n",
              "      <td>2020-01-01 00:43:04</td>\n",
              "      <td>1.0</td>\n",
              "      <td>239</td>\n",
              "      <td>238</td>\n",
              "      <td>7.0</td>\n",
              "    </tr>\n",
              "    <tr>\n",
              "      <th>2</th>\n",
              "      <td>1.0</td>\n",
              "      <td>2020-01-01 00:47:41</td>\n",
              "      <td>2020-01-01 00:53:52</td>\n",
              "      <td>1.0</td>\n",
              "      <td>238</td>\n",
              "      <td>238</td>\n",
              "      <td>6.0</td>\n",
              "    </tr>\n",
              "    <tr>\n",
              "      <th>3</th>\n",
              "      <td>1.0</td>\n",
              "      <td>2020-01-01 00:55:23</td>\n",
              "      <td>2020-01-01 01:00:14</td>\n",
              "      <td>1.0</td>\n",
              "      <td>238</td>\n",
              "      <td>151</td>\n",
              "      <td>5.5</td>\n",
              "    </tr>\n",
              "    <tr>\n",
              "      <th>4</th>\n",
              "      <td>2.0</td>\n",
              "      <td>2020-01-01 00:01:58</td>\n",
              "      <td>2020-01-01 00:04:16</td>\n",
              "      <td>1.0</td>\n",
              "      <td>193</td>\n",
              "      <td>193</td>\n",
              "      <td>3.5</td>\n",
              "    </tr>\n",
              "  </tbody>\n",
              "</table>\n",
              "</div>"
            ],
            "text/plain": [
              "   VendorID tpep_pickup_datetime  ... DOLocationID  fare_amount\n",
              "0       1.0  2020-01-01 00:28:15  ...          239          6.0\n",
              "1       1.0  2020-01-01 00:35:39  ...          238          7.0\n",
              "2       1.0  2020-01-01 00:47:41  ...          238          6.0\n",
              "3       1.0  2020-01-01 00:55:23  ...          151          5.5\n",
              "4       2.0  2020-01-01 00:01:58  ...          193          3.5\n",
              "\n",
              "[5 rows x 7 columns]"
            ]
          },
          "metadata": {
            "tags": []
          },
          "execution_count": 4
        }
      ]
    },
    {
      "cell_type": "code",
      "metadata": {
        "colab": {
          "base_uri": "https://localhost:8080/"
        },
        "id": "WQtjyt0VeMJn",
        "outputId": "3bf4c905-7dc1-483b-8d5b-78a63247cf69"
      },
      "source": [
        "data.info()"
      ],
      "execution_count": 7,
      "outputs": [
        {
          "output_type": "stream",
          "text": [
            "<class 'pandas.core.frame.DataFrame'>\n",
            "RangeIndex: 1243241 entries, 0 to 1243240\n",
            "Data columns (total 7 columns):\n",
            " #   Column                 Non-Null Count    Dtype  \n",
            "---  ------                 --------------    -----  \n",
            " 0   VendorID               1227632 non-null  float64\n",
            " 1   tpep_pickup_datetime   1243241 non-null  object \n",
            " 2   tpep_dropoff_datetime  1243241 non-null  object \n",
            " 3   passenger_count        1227632 non-null  float64\n",
            " 4   PULocationID           1243241 non-null  int64  \n",
            " 5   DOLocationID           1243241 non-null  int64  \n",
            " 6   fare_amount            1243241 non-null  float64\n",
            "dtypes: float64(3), int64(2), object(2)\n",
            "memory usage: 66.4+ MB\n"
          ],
          "name": "stdout"
        }
      ]
    },
    {
      "cell_type": "code",
      "metadata": {
        "colab": {
          "base_uri": "https://localhost:8080/"
        },
        "id": "WZxfYoa7ehSQ",
        "outputId": "da6e0d44-99b2-40a8-da72-89ffd78b8862"
      },
      "source": [
        "data.max()"
      ],
      "execution_count": 8,
      "outputs": [
        {
          "output_type": "execute_result",
          "data": {
            "text/plain": [
              "VendorID                                   2\n",
              "tpep_pickup_datetime     2020-01-07 23:59:58\n",
              "tpep_dropoff_datetime    2020-01-09 13:07:47\n",
              "passenger_count                            9\n",
              "PULocationID                             265\n",
              "DOLocationID                             265\n",
              "fare_amount                             1238\n",
              "dtype: object"
            ]
          },
          "metadata": {
            "tags": []
          },
          "execution_count": 8
        }
      ]
    },
    {
      "cell_type": "code",
      "metadata": {
        "id": "c5_DKmLQe0n-"
      },
      "source": [
        "data.tpep_pickup_datetime = pd.to_datetime(data.tpep_pickup_datetime)\r\n",
        "data.tpep_pickup_datetime = pd.DatetimeIndex(data.tpep_pickup_datetime)"
      ],
      "execution_count": 11,
      "outputs": []
    },
    {
      "cell_type": "code",
      "metadata": {
        "id": "QUrzbvNifgHy"
      },
      "source": [
        "data['weekdaypu'] = data.tpep_pickup_datetime.dt.day_name()"
      ],
      "execution_count": 14,
      "outputs": []
    },
    {
      "cell_type": "code",
      "metadata": {
        "colab": {
          "base_uri": "https://localhost:8080/",
          "height": 204
        },
        "id": "Ym-bj8yUfl2b",
        "outputId": "c9307942-6807-48b5-a05c-f6e36887390f"
      },
      "source": [
        "data.head()"
      ],
      "execution_count": 15,
      "outputs": [
        {
          "output_type": "execute_result",
          "data": {
            "text/html": [
              "<div>\n",
              "<style scoped>\n",
              "    .dataframe tbody tr th:only-of-type {\n",
              "        vertical-align: middle;\n",
              "    }\n",
              "\n",
              "    .dataframe tbody tr th {\n",
              "        vertical-align: top;\n",
              "    }\n",
              "\n",
              "    .dataframe thead th {\n",
              "        text-align: right;\n",
              "    }\n",
              "</style>\n",
              "<table border=\"1\" class=\"dataframe\">\n",
              "  <thead>\n",
              "    <tr style=\"text-align: right;\">\n",
              "      <th></th>\n",
              "      <th>VendorID</th>\n",
              "      <th>tpep_pickup_datetime</th>\n",
              "      <th>tpep_dropoff_datetime</th>\n",
              "      <th>passenger_count</th>\n",
              "      <th>PULocationID</th>\n",
              "      <th>DOLocationID</th>\n",
              "      <th>fare_amount</th>\n",
              "      <th>weekday</th>\n",
              "      <th>weekdaypu</th>\n",
              "    </tr>\n",
              "  </thead>\n",
              "  <tbody>\n",
              "    <tr>\n",
              "      <th>0</th>\n",
              "      <td>1.0</td>\n",
              "      <td>2020-01-01 00:28:15</td>\n",
              "      <td>2020-01-01 00:33:03</td>\n",
              "      <td>1.0</td>\n",
              "      <td>238</td>\n",
              "      <td>239</td>\n",
              "      <td>6.0</td>\n",
              "      <td>Wednesday</td>\n",
              "      <td>Wednesday</td>\n",
              "    </tr>\n",
              "    <tr>\n",
              "      <th>1</th>\n",
              "      <td>1.0</td>\n",
              "      <td>2020-01-01 00:35:39</td>\n",
              "      <td>2020-01-01 00:43:04</td>\n",
              "      <td>1.0</td>\n",
              "      <td>239</td>\n",
              "      <td>238</td>\n",
              "      <td>7.0</td>\n",
              "      <td>Wednesday</td>\n",
              "      <td>Wednesday</td>\n",
              "    </tr>\n",
              "    <tr>\n",
              "      <th>2</th>\n",
              "      <td>1.0</td>\n",
              "      <td>2020-01-01 00:47:41</td>\n",
              "      <td>2020-01-01 00:53:52</td>\n",
              "      <td>1.0</td>\n",
              "      <td>238</td>\n",
              "      <td>238</td>\n",
              "      <td>6.0</td>\n",
              "      <td>Wednesday</td>\n",
              "      <td>Wednesday</td>\n",
              "    </tr>\n",
              "    <tr>\n",
              "      <th>3</th>\n",
              "      <td>1.0</td>\n",
              "      <td>2020-01-01 00:55:23</td>\n",
              "      <td>2020-01-01 01:00:14</td>\n",
              "      <td>1.0</td>\n",
              "      <td>238</td>\n",
              "      <td>151</td>\n",
              "      <td>5.5</td>\n",
              "      <td>Wednesday</td>\n",
              "      <td>Wednesday</td>\n",
              "    </tr>\n",
              "    <tr>\n",
              "      <th>4</th>\n",
              "      <td>2.0</td>\n",
              "      <td>2020-01-01 00:01:58</td>\n",
              "      <td>2020-01-01 00:04:16</td>\n",
              "      <td>1.0</td>\n",
              "      <td>193</td>\n",
              "      <td>193</td>\n",
              "      <td>3.5</td>\n",
              "      <td>Wednesday</td>\n",
              "      <td>Wednesday</td>\n",
              "    </tr>\n",
              "  </tbody>\n",
              "</table>\n",
              "</div>"
            ],
            "text/plain": [
              "   VendorID tpep_pickup_datetime  ...    weekday  weekdaypu\n",
              "0       1.0  2020-01-01 00:28:15  ...  Wednesday  Wednesday\n",
              "1       1.0  2020-01-01 00:35:39  ...  Wednesday  Wednesday\n",
              "2       1.0  2020-01-01 00:47:41  ...  Wednesday  Wednesday\n",
              "3       1.0  2020-01-01 00:55:23  ...  Wednesday  Wednesday\n",
              "4       2.0  2020-01-01 00:01:58  ...  Wednesday  Wednesday\n",
              "\n",
              "[5 rows x 9 columns]"
            ]
          },
          "metadata": {
            "tags": []
          },
          "execution_count": 15
        }
      ]
    },
    {
      "cell_type": "code",
      "metadata": {
        "id": "6dgVjLF1fu-k"
      },
      "source": [
        "data.tpep_dropoff_datetime = pd.to_datetime(data.tpep_dropoff_datetime)\r\n",
        "data.tpep_dropoff_datetime = pd.DatetimeIndex(data.tpep_dropoff_datetime)"
      ],
      "execution_count": 16,
      "outputs": []
    },
    {
      "cell_type": "code",
      "metadata": {
        "colab": {
          "base_uri": "https://localhost:8080/",
          "height": 204
        },
        "id": "LeEVpN3Uf93Y",
        "outputId": "e36edffd-7730-4059-fe44-4a29a1250ff9"
      },
      "source": [
        "data['weekdayDO'] = data.tpep_dropoff_datetime.dt.day_name()\r\n",
        "data.head()"
      ],
      "execution_count": 17,
      "outputs": [
        {
          "output_type": "execute_result",
          "data": {
            "text/html": [
              "<div>\n",
              "<style scoped>\n",
              "    .dataframe tbody tr th:only-of-type {\n",
              "        vertical-align: middle;\n",
              "    }\n",
              "\n",
              "    .dataframe tbody tr th {\n",
              "        vertical-align: top;\n",
              "    }\n",
              "\n",
              "    .dataframe thead th {\n",
              "        text-align: right;\n",
              "    }\n",
              "</style>\n",
              "<table border=\"1\" class=\"dataframe\">\n",
              "  <thead>\n",
              "    <tr style=\"text-align: right;\">\n",
              "      <th></th>\n",
              "      <th>VendorID</th>\n",
              "      <th>tpep_pickup_datetime</th>\n",
              "      <th>tpep_dropoff_datetime</th>\n",
              "      <th>passenger_count</th>\n",
              "      <th>PULocationID</th>\n",
              "      <th>DOLocationID</th>\n",
              "      <th>fare_amount</th>\n",
              "      <th>weekday</th>\n",
              "      <th>weekdaypu</th>\n",
              "      <th>weekdayDO</th>\n",
              "    </tr>\n",
              "  </thead>\n",
              "  <tbody>\n",
              "    <tr>\n",
              "      <th>0</th>\n",
              "      <td>1.0</td>\n",
              "      <td>2020-01-01 00:28:15</td>\n",
              "      <td>2020-01-01 00:33:03</td>\n",
              "      <td>1.0</td>\n",
              "      <td>238</td>\n",
              "      <td>239</td>\n",
              "      <td>6.0</td>\n",
              "      <td>Wednesday</td>\n",
              "      <td>Wednesday</td>\n",
              "      <td>Wednesday</td>\n",
              "    </tr>\n",
              "    <tr>\n",
              "      <th>1</th>\n",
              "      <td>1.0</td>\n",
              "      <td>2020-01-01 00:35:39</td>\n",
              "      <td>2020-01-01 00:43:04</td>\n",
              "      <td>1.0</td>\n",
              "      <td>239</td>\n",
              "      <td>238</td>\n",
              "      <td>7.0</td>\n",
              "      <td>Wednesday</td>\n",
              "      <td>Wednesday</td>\n",
              "      <td>Wednesday</td>\n",
              "    </tr>\n",
              "    <tr>\n",
              "      <th>2</th>\n",
              "      <td>1.0</td>\n",
              "      <td>2020-01-01 00:47:41</td>\n",
              "      <td>2020-01-01 00:53:52</td>\n",
              "      <td>1.0</td>\n",
              "      <td>238</td>\n",
              "      <td>238</td>\n",
              "      <td>6.0</td>\n",
              "      <td>Wednesday</td>\n",
              "      <td>Wednesday</td>\n",
              "      <td>Wednesday</td>\n",
              "    </tr>\n",
              "    <tr>\n",
              "      <th>3</th>\n",
              "      <td>1.0</td>\n",
              "      <td>2020-01-01 00:55:23</td>\n",
              "      <td>2020-01-01 01:00:14</td>\n",
              "      <td>1.0</td>\n",
              "      <td>238</td>\n",
              "      <td>151</td>\n",
              "      <td>5.5</td>\n",
              "      <td>Wednesday</td>\n",
              "      <td>Wednesday</td>\n",
              "      <td>Wednesday</td>\n",
              "    </tr>\n",
              "    <tr>\n",
              "      <th>4</th>\n",
              "      <td>2.0</td>\n",
              "      <td>2020-01-01 00:01:58</td>\n",
              "      <td>2020-01-01 00:04:16</td>\n",
              "      <td>1.0</td>\n",
              "      <td>193</td>\n",
              "      <td>193</td>\n",
              "      <td>3.5</td>\n",
              "      <td>Wednesday</td>\n",
              "      <td>Wednesday</td>\n",
              "      <td>Wednesday</td>\n",
              "    </tr>\n",
              "  </tbody>\n",
              "</table>\n",
              "</div>"
            ],
            "text/plain": [
              "   VendorID tpep_pickup_datetime  ...  weekdaypu  weekdayDO\n",
              "0       1.0  2020-01-01 00:28:15  ...  Wednesday  Wednesday\n",
              "1       1.0  2020-01-01 00:35:39  ...  Wednesday  Wednesday\n",
              "2       1.0  2020-01-01 00:47:41  ...  Wednesday  Wednesday\n",
              "3       1.0  2020-01-01 00:55:23  ...  Wednesday  Wednesday\n",
              "4       2.0  2020-01-01 00:01:58  ...  Wednesday  Wednesday\n",
              "\n",
              "[5 rows x 10 columns]"
            ]
          },
          "metadata": {
            "tags": []
          },
          "execution_count": 17
        }
      ]
    },
    {
      "cell_type": "markdown",
      "metadata": {
        "id": "WOWGWIpQg--b"
      },
      "source": [
        "print(df[df['D']<0]['B'])"
      ]
    },
    {
      "cell_type": "code",
      "metadata": {
        "id": "EECWx3X3gRpx"
      },
      "source": [
        "new_df=(data[data['VendorID']==2],[data['passenger_count']>5])"
      ],
      "execution_count": 27,
      "outputs": []
    },
    {
      "cell_type": "code",
      "metadata": {
        "colab": {
          "base_uri": "https://localhost:8080/"
        },
        "id": "rIXvREgxjPpa",
        "outputId": "8085bc9a-3167-49c7-f0fe-ca09a2375fde"
      },
      "source": [
        "new_df"
      ],
      "execution_count": 28,
      "outputs": [
        {
          "output_type": "execute_result",
          "data": {
            "text/plain": [
              "(         VendorID tpep_pickup_datetime  ...  weekdaypu  weekdayDO\n",
              " 4             2.0  2020-01-01 00:01:58  ...  Wednesday  Wednesday\n",
              " 5             2.0  2020-01-01 00:09:44  ...  Wednesday  Wednesday\n",
              " 6             2.0  2020-01-01 00:39:25  ...  Wednesday  Wednesday\n",
              " 11            2.0  2020-01-01 00:21:54  ...  Wednesday  Wednesday\n",
              " 12            2.0  2020-01-01 00:38:01  ...  Wednesday  Wednesday\n",
              " ...           ...                  ...  ...        ...        ...\n",
              " 1227627       2.0  2020-01-07 21:37:35  ...    Tuesday    Tuesday\n",
              " 1227628       2.0  2020-01-07 23:58:07  ...    Tuesday  Wednesday\n",
              " 1227629       2.0  2020-01-07 22:29:20  ...    Tuesday    Tuesday\n",
              " 1227630       2.0  2020-01-07 23:59:31  ...    Tuesday  Wednesday\n",
              " 1227631       2.0  2020-01-07 21:01:18  ...    Tuesday    Tuesday\n",
              " \n",
              " [830826 rows x 10 columns], [0          False\n",
              "  1          False\n",
              "  2          False\n",
              "  3          False\n",
              "  4          False\n",
              "             ...  \n",
              "  1243236    False\n",
              "  1243237    False\n",
              "  1243238    False\n",
              "  1243239    False\n",
              "  1243240    False\n",
              "  Name: passenger_count, Length: 1243241, dtype: bool])"
            ]
          },
          "metadata": {
            "tags": []
          },
          "execution_count": 28
        }
      ]
    },
    {
      "cell_type": "code",
      "metadata": {
        "colab": {
          "base_uri": "https://localhost:8080/"
        },
        "id": "hf9fuZtwjVZT",
        "outputId": "c9c4290e-f23f-4ea2-fc41-7811153f45e6"
      },
      "source": [
        "data.passenger_count"
      ],
      "execution_count": 30,
      "outputs": [
        {
          "output_type": "execute_result",
          "data": {
            "text/plain": [
              "0          1.0\n",
              "1          1.0\n",
              "2          1.0\n",
              "3          1.0\n",
              "4          1.0\n",
              "          ... \n",
              "1243236    NaN\n",
              "1243237    NaN\n",
              "1243238    NaN\n",
              "1243239    NaN\n",
              "1243240    NaN\n",
              "Name: passenger_count, Length: 1243241, dtype: float64"
            ]
          },
          "metadata": {
            "tags": []
          },
          "execution_count": 30
        }
      ]
    },
    {
      "cell_type": "code",
      "metadata": {
        "colab": {
          "base_uri": "https://localhost:8080/"
        },
        "id": "w2iv8CFzlkpk",
        "outputId": "bada053e-c5c2-4af4-fc91-cc862875895d"
      },
      "source": [
        "data.passenger_count.max"
      ],
      "execution_count": 31,
      "outputs": [
        {
          "output_type": "execute_result",
          "data": {
            "text/plain": [
              "<bound method Series.max of 0          1.0\n",
              "1          1.0\n",
              "2          1.0\n",
              "3          1.0\n",
              "4          1.0\n",
              "          ... \n",
              "1243236    NaN\n",
              "1243237    NaN\n",
              "1243238    NaN\n",
              "1243239    NaN\n",
              "1243240    NaN\n",
              "Name: passenger_count, Length: 1243241, dtype: float64>"
            ]
          },
          "metadata": {
            "tags": []
          },
          "execution_count": 31
        }
      ]
    },
    {
      "cell_type": "code",
      "metadata": {
        "colab": {
          "base_uri": "https://localhost:8080/"
        },
        "id": "l0bPMif2hzjJ",
        "outputId": "4070a8d9-b6cd-47d9-b3f7-4ab3ae332f20"
      },
      "source": [
        "data.passenger_count.isna().sum()"
      ],
      "execution_count": 34,
      "outputs": [
        {
          "output_type": "execute_result",
          "data": {
            "text/plain": [
              "15609"
            ]
          },
          "metadata": {
            "tags": []
          },
          "execution_count": 34
        }
      ]
    },
    {
      "cell_type": "markdown",
      "metadata": {
        "id": "0zr7fNC5p6i2"
      },
      "source": [
        "max and median value before filling missing values"
      ]
    },
    {
      "cell_type": "code",
      "metadata": {
        "colab": {
          "base_uri": "https://localhost:8080/"
        },
        "id": "P9s0lUEvm7Lm",
        "outputId": "ebb23182-27b5-4cf2-a357-b5340df98cb0"
      },
      "source": [
        "print(data['passenger_count'].max())"
      ],
      "execution_count": 37,
      "outputs": [
        {
          "output_type": "stream",
          "text": [
            "9.0\n"
          ],
          "name": "stdout"
        }
      ]
    },
    {
      "cell_type": "code",
      "metadata": {
        "colab": {
          "base_uri": "https://localhost:8080/"
        },
        "id": "7_CMItZOpRf0",
        "outputId": "d848b9e1-aa11-4edd-e5ae-92382fbe4fd0"
      },
      "source": [
        "print(data['passenger_count'].median())"
      ],
      "execution_count": 38,
      "outputs": [
        {
          "output_type": "stream",
          "text": [
            "1.0\n"
          ],
          "name": "stdout"
        }
      ]
    },
    {
      "cell_type": "markdown",
      "metadata": {
        "id": "JRQCLhp5qgqH"
      },
      "source": [
        "filling missing values my max value "
      ]
    },
    {
      "cell_type": "code",
      "metadata": {
        "colab": {
          "base_uri": "https://localhost:8080/"
        },
        "id": "K7oCz2MqqmXI",
        "outputId": "8fe1093f-ce13-4813-dc23-4e29348b2a44"
      },
      "source": [
        "x = 36 / 4 * (3 + 2) * 4 + 2\r\n",
        "print(x)"
      ],
      "execution_count": 43,
      "outputs": [
        {
          "output_type": "stream",
          "text": [
            "182.0\n"
          ],
          "name": "stdout"
        }
      ]
    },
    {
      "cell_type": "code",
      "metadata": {
        "colab": {
          "base_uri": "https://localhost:8080/"
        },
        "id": "uqLAOlvxyGY1",
        "outputId": "ff827940-61d3-437b-f3d4-312c5afb41c9"
      },
      "source": [
        "2*2**3"
      ],
      "execution_count": 44,
      "outputs": [
        {
          "output_type": "execute_result",
          "data": {
            "text/plain": [
              "16"
            ]
          },
          "metadata": {
            "tags": []
          },
          "execution_count": 44
        }
      ]
    },
    {
      "cell_type": "markdown",
      "metadata": {
        "id": "mMPoCcpxyRhz"
      },
      "source": [
        "Consider two numbers, a = 5, b = 16. Write a Python program to print the sum of these two numbers.\r\n",
        "Write a Python program to take a number from the user as input and print the cube of the number."
      ]
    },
    {
      "cell_type": "code",
      "metadata": {
        "id": "y0D_wzI-yTWD"
      },
      "source": [
        "a=5\r\n",
        "b=16"
      ],
      "execution_count": 47,
      "outputs": []
    },
    {
      "cell_type": "code",
      "metadata": {
        "colab": {
          "base_uri": "https://localhost:8080/"
        },
        "id": "y7NXn9yMykVB",
        "outputId": "256361ed-ba58-42cb-89b3-f22da2aa478c"
      },
      "source": [
        "x=a+b\r\n",
        "print(x)"
      ],
      "execution_count": 49,
      "outputs": [
        {
          "output_type": "stream",
          "text": [
            "21\n"
          ],
          "name": "stdout"
        }
      ]
    },
    {
      "cell_type": "code",
      "metadata": {
        "colab": {
          "base_uri": "https://localhost:8080/"
        },
        "id": "P8pSJOqfyvnt",
        "outputId": "7ab8311f-c4e8-4ce1-c03e-73cc5307c02f"
      },
      "source": [
        "# Python Program to Calculate Cube of a Number\r\n",
        "\r\n",
        "number = float(input(\" Please Enter any numeric Value : \"))\r\n",
        "\r\n",
        "cube = number ** 3\r\n",
        "\r\n",
        "print(\"The Cube of a Given Number {0}  = {1}\".format(number, cube))"
      ],
      "execution_count": 50,
      "outputs": [
        {
          "output_type": "stream",
          "text": [
            " Please Enter any numeric Value : 8\n",
            "The Cube of a Given Number 8.0  = 512.0\n"
          ],
          "name": "stdout"
        }
      ]
    }
  ]
}